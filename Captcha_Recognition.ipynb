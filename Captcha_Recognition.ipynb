{
  "nbformat": 4,
  "nbformat_minor": 0,
  "metadata": {
    "colab": {
      "provenance": []
    },
    "kernelspec": {
      "name": "python3",
      "display_name": "Python 3"
    },
    "language_info": {
      "name": "python"
    },
    "accelerator": "GPU",
    "gpuClass": "standard"
  },
  "cells": [
    {
      "cell_type": "markdown",
      "source": [
        "#Importent libraries\n"
      ],
      "metadata": {
        "id": "227BXwuEep_K"
      }
    },
    {
      "cell_type": "code",
      "source": [
        "import numpy as np # linear algebra\n",
        "import pandas as pd # data processing, CSV file I/O (e.g. pd.read_csv)\n",
        "\n",
        "%matplotlib inline\n",
        "import matplotlib.pyplot as plt\n",
        "import os\n",
        "print(os.listdir(\"/content/Captcha\"))\n",
        "\n"
      ],
      "metadata": {
        "colab": {
          "base_uri": "https://localhost:8080/"
        },
        "id": "YuI3St9w8Ysi",
        "outputId": "32607f75-74b0-4744-fa58-dd398d09500f"
      },
      "execution_count": null,
      "outputs": [
        {
          "output_type": "stream",
          "name": "stdout",
          "text": [
            "['wyc25.png', 'w2n7e.png', '76n7p.png', 'bw5ym.png', '58b5m.png', '3dgmf.png', 'dmxp8.png', 'ywn6f.png', 'gegw4.png', 'pcpg6.png', 'y5dpp.png', 'pm47f.png', '3bnfnd.png', 'nfcwy.png', 'ncww7.png', 'n2by7.png', '33f7m.png', 'm3b5p.png', 'yw667.png', '5325m.png', '8ne4g.png', 'xbem6.png', '5dxnm.png', 'pe4xn.png', 'edwny.png', 'c6f8g.png', 'm457d.png', 'pp546.png', '43gey.png', '33b22.png', '6cm6m.png', 'nfd8g.png', 'nm248.png', 'yx2d4.png', '325fb.png', 'fncnb.png', '7gce6.png', 'x8e8n.png', 'cd6p4.png', '7xcyd.png', 'n6f4b.png', '823p2.png', 'gd4mf.png', 'f22bn.png', 'mmg38.png', '4cfw8.png', '8e32m.png', 'c753e.png', 'nnn57.png', '87nym.png', 'c43b4.png', 'm8m4x.png', '4gycb.png', '5bg8f.png', 'n5x2n.png', '6p2ge.png', 'wecfd.png', 'g888x.png', 'excmn.png', '5n3w4.png', 'enn7n.png', 'bnc5f.png', '8y6b3.png', 'c2pg6.png', 'cc845.png', 'n3bm6.png', '6fgdw.png', 'nwg2m.png', '3nnpw.png', '38n57.png', 'fyfbn.png', '785n4.png', 'n7g4f.png', '23n88.png', '5nnff.png', 'd4ppy.png', 'w4cdc.png', '574d7.png', 'wxcn8.png', 'ymp7g.png', 'f6ne5.png', 'ngn26.png', 'b4ndb.jpg', '4egem.png', 'pym7p.png', 'deep5.png', 'nxcmn.png', 'emwpn.png', 'w6ny4.jpg', '6ng6w.png', '6xen4.png', 'cfw6e.png', '8wy7d.png', 'egxmp.png', '658xe.png', 'bnc2f.png', 'm448b.png', 'neggn.png', '4nnf3.png', 'yemy4.png', 'eppg3.png', '8npe3.png', '85622.png', 'wbncw.png', 'g55b4.png', '6wg4n.png', 'x347n.png', '253dc.png', 'yd38e.png', 'nn6mg.png', '47e4p.png', '47m2b.png', '25egp.png', '5ng6e.png', 'f5e5e.png', '2356g.png', 'cnmnn.png', 'ny3nn.png', 'yf28d.png', '3p4nn.png', 'n6nn2.png', 'xyyyw.png', '488de.png', '65nmw.jpg', 'nnp4e.png', '3x325.png', 'gc277.png', 'x6b5m.png', '66wp5.png', 'mfc35.png', 'men4f.png', 'md344.png', 'd4n82.png', 'cwdnx.png', '7gmf3.png', '5mcy7.png', '3w2bw.png', 'fywb8.png', 'bw44w.png', 'dw6mn.png', 'ypp8f.png', '5np4m.png', '8nbew.png', '865wm.png', '3n7mx.png', 'd2nbn.png', '42xpy.png', 'c4mcm.png', 'gecmf.png', 'be6np.png', 'ewcf5.png', 'nb45d.png', 'wm746.png', 'd22bd.png', 'd75b5.png', '25m6p.png', 'p2x7x.png', 'p8c24.png', '474ff.png', 'gw468.png', 'myc3c.png', 'xdn65.png', '6wnyc.png', '6bdn5.png', 'p2dw7.png', '678w3.png', '34fxm.png', 'xxbm5.png', '4yc85.png', 'dy3cx.png', '3nfdn.png', 'm6n4x.png', '264m5.png', 'dd5w5.png', 'c8n8c.png', 'y4g3b.png', 'p7fyp.png', '6n6gg.png', '36nx4.png', 'wce5n.png', '84w7x.png', 'd666m.png', 'gn2d3.png', 'y2ye8.png', '2g7nm.png', 'nmw46.png', 'ydg8n.png', '6e554.png', 'ncyx8.png', 'n5w5g.png', '36w25.png', '373gb.png', 'fg38b.png', 'gcfgp.png', '42nxy.png', 'nb267.png', 'm3wfw.png', 'nfbg8.png', '2ycn8.png', 'fdpgd.png', 'cnwyc.png', '2cegf.png', 'xdcn4.png', 'gm7n8.png', '662bw.png', 'g3dy6.png', 'b5nmm.png', 'xnnc3.png', '3ndxd.png', 'e46pd.png', '2mpnn.png', '74853.png', '5mfff.png', '6mn8n.png', '3xcgg.png', 'px2xp.png', '85dxn.png', '6c3p5.png', 'eng53.png', 'm67b3.png', 'mcg43.png', 'e667x.png', '64b3p.png', 'p4pde.png', 'defyx.png', '3bx86.png', 'bpwd7.png', 'w8bnx.png', 'fp382.png', 'bxxfc.png', 'n336e.png', 'e6b7y.png', 'w48cw.png', 'fp3wy.png', 'cdcb3.png', '4nc37.png', '78dw6.jpg', 'bw5nf.png', 'b5fm7.png', '75pfw.png', '4n3mn.png', 'x37bf.png', '6pfy4.png', 'mwxwp.png', 'en32e.png', 'xemyg.png', 'yfdn7.png', '33n73.png', '675p3.png', 'm4g8g.png', 'c8fxy.png', '7g3nf.png', '84py4.jpg', '6n443.png', '43mn5.png', 'x5nyn.png', 'mcyfx.png', 'fy2nd.png', 'pdw38.png', 'cffp4.png', '6gnm3.png', 'p8ngx.png', 'c3572.png', 'm8gmx.png', '8n56m.png', 'pnmxf.png', 'xyncc.png', '77wp4.png', 'nbmx7.png', '4m2w5.png', '63pxe.png', '65m85.png', '37d52.png', '478nx.png', 'n4wwn.png', 'nwncn.png', 'bwmee.png', 'bgxcd.jpg', 'dgcm4.jpg', '76y6f.png', '3ygde.png', 'b3xpn.png', 'mxnw4.png', 'ccn2x.png', 'myf82.png', '8gmnx.png', 'yy824.png', 'y2436.png', 'ef4mn.png', '32cnn.png', 'c7gb3.png', 'c2yn8.png', 'pn7pn.png', 'bc8nf.png', 'pg2yx.png', '28x47.png', '7y2x4.png', 'pxdwp.png', '65ebm.png', '57wdp.png', '6ge3p.png', '3ye2e.png', 'xngxc.png', 'cen55.png', 'b28g8.png', '4fc36.png', '243mm.png', 'mx8bb.png', 'x7547.png', 'dbfen.png', '7yf62.png', '7w67m.png', 'xmcym.png', '3mxdn.png', 'p2ym2.png', 'c4bny.png', 'pgwnp.png', '34pcn.png', 'p6mn8.png', '268g2.png', '8bbw8.png', '5nxnn.png', 'n4b4m.png', 'wm47f.png', 'nn6w6.jpg', '3d7bd.png', '8n34n.png', '32dnn.png', 'yew6p.png', 'ygfwe.png', 'p2m6n.png', 'fcmem.png', 'mmfm6.png', '3fbxd.png', 'f75cx.png', '7dwx4.png', 'neecd.png', 'dn5df.png', 'yyn57.png', '67dey.png', 'ccf2w.png', '3g2w6.png', 'gnbde.png', 'w2yp7.png', '22d5n.png', 'nnn5p.png', '76nxn.png', '7gp47.png', '6fg8c.png', '52447.png', 'nxf2c.jpg', '4433m.png', 'p5g5m.png', 'n6xc5.png', 'gpnxn.png', '5x7x5.png', 'nfndw.png', 'ddcdd.png', 'b685n.png', 'f74x3.png', '36bc2.png', 'xnfx5.png', '5ep3n.png', 'nngxc.png', '4n2yg.png', '57gnx.png', 'enpw2.png', 'e5n66.png', 'pxne8.png', 'cwmny.png', 'fc6xb.png', '44ype.png', '8pfxx.png', 'mw5p2.png', '2yggg.png', 'nxn4f.png', 'nn4wx.png', 'n3ffn.png', 'fc2ff.png', 'mbp2y.png', 'ep85x.png', 'gfp54.png', '3n2b4.png', 'e6m6p.png', 'dce8y.png', '3bnyf.png', '7dyww.png', 'gw53m.png', '245y5.png', 'ndg2b.png', 'b4ncn.png', 'xfn6n.png', '6c3n6.png', 'b55d6.png', 'f5cm2.png', 'pdcp4.png', 'wd2gb.png', '2cg58.png', '4ycex.png', 'n2gmg.png', 'pw5nc.png', 'x362g.png', '8n5pn.png', 'byfgn.png', 'b35f6.png', 'f4wfn.png', '6bnnm.png', '8684m.png', '44xe8.png', 'pmg55.png', 'e8dxn.png', '44fyb.png', 'e25xg.png', 'mdyp7.png', 'ee8fg.png', '5yxgp.png', '77n6g.png', '5g5e5.png', 'wxy4n.png', 'yf347.png', 'f83pn.png', 'e76n4.png', '2wc38.png', 'w4cnn.png', 'c5xne.png', '8n5p3.png', 'pgg3n.png', 'gmmne.jpg', '7d44m.png', 'gc2wd.png', 'dyxnc.png', 'mddgb.png', '6end3.png', '2nx38.png', 'f7cey.png', 'g6n7x.png', 'bny4w.png', '6xpme.png', 'g7fmc.png', '56ncx.png', 'xe6eb.png', 'm75bf.png', '8d8ep.png', 'cfn53.png', '6e6pn.png', '7cgym.png', 'd2ycw.png', 'y866y.png', '55y2m.png', 'e7nx4.png', 'yf424.png', 'byc82.png', 'e84n2.png', '377xx.png', 'ddmyg.png', 'w6pxy.png', 'xc68n.png', '428b6.png', '4dw3w.png', 'f35xp.png', '6g45w.png', '78eec.png', 'fcey3.png', 'x74b2.png', 'xbcbx.png', 'dc436.png', 'm4fd8.png', 'p57fn.png', '76353.png', 'npxb7.png', 'm2nf4.png', '3eny7.png', '2g783.png', 'befbd.png', '7fmcy.png', '87d4c.png', 'mp7wp.png', '25257.png', 'gwn53.png', 'xwx7d.png', '4w76g.png', 'n3x4c.png', 'ygenn.png', 'yxd7m.png', 'cnex4.png', 'nxx25.png', 'n7ebx.png', 'fw3b2.png', '7dxbd.png', '7wyp4.png', '5fyem.png', 'fp5wn.png', '4gb3f.png', 'pme86.png', '7m8px.png', 'b6f2p.png', 'ycnfc.png', '8db67.png', 'y2xg4.png', 'fg7mg.png', 'pf5ng.png', '73mnx.png', 'ycmcw.png', 'gfbx6.png', '556wd.png', 'cb8cf.png', '7nnnx.png', '5x5nx.png', '2gyb6.png', 'y5g87.png', '2pfpn.png', 'bn5mw.png', 'f2fge.png', '664dn.png', 'x7422.png', 'b26nd.png', '573d8.png', 'x7746.png', 'x5f54.png', '2nbcx.png', 'ny8np.png', 'f228n.png', 'f858x.png', '6f857.png', '63824.png', 'gn2xy.png', '8n4n8.png', 'mdxpn.png', 'fwxdp.png', '8ypdn.png', '4cn7b.png', 'c2fb7.png', '3c7de.jpg', '8gecm.png', '7wnpm.png', 'g247w.png', '68wfd.png', 'ennmm.png', 'nbcgb.png', '8nn73.png', 'cd4eg.png', 'f6ww8.png', 'c6we6.png', 'n7dyb.png', 'dw8d3.png', 'wb3ed.png', '7fde7.png', 'n3xfg.jpg', '6825y.png', 'xcmbp.png', 'ydd3g.png', 'y33nm.png', '3ebnn.png', 'cdfen.png', '57b27.png', 'pnnwy.png', 'cndmc.jpg', 'g8gnd.png', 'y3c58.png', 'g7gnf.png', '5gcd3.png', 'nbwpn.png', '8w875.png', '378e5.png', 'd66cn.png', 'dmw8n.png', 'xf4p4.png', 'w4nfx.png', 'n8pfe.png', 'bx5ed.jpg', 'd22y5.png', 'ppx77.png', '88y52.png', 'dcnp8.png', 'n7meb.png', '6xxdx.png', '6dd2y.png', 'cm6yb.png', '8b735.png', 'f753f.png', 'yeyn4.png', 'x3fwf.png', 'b4y5x.png', 'pwmbn.png', 'nny5e.png', '33ng4.png', 'd7nn3.png', 'e72cd.png', '5n245.png', 'cewnm.png', 'yg5bb.png', 'yw7ny.png', 'fgb36.jpg', '2bg48.png', 'nbp3e.png', 'fg8n4.png', 'n4xx5.png', 'e4gd7.png', 'dmx8p.png', 'bw6n6.png', 'f85y3.png', 'nmy2x.png', 'wnmyn.png', '58pnp.png', 'n4cpy.png', 'ne325.png', '5mnpd.png', '728n8.png', 'x4pnp.png', 'd3c7y.png', 'x458w.png', 'ny5dp.png', '8y63f.png', '8eggg.png', 'd7en3.png', 'mye68.png', '3den6.png', 'gymmn.png', '6n5fd.png', 'dn26n.png', 'y4n6m.png', 'gxx2p.png', 'ffnxn.png', '7xd5m.png', 'cx3wg.png', 'pyefb.png', '4c8n8.png', 'bmxpe.png', 'wdww8.png', '2p2y8.png', 'pmd3w.png', 'gxxpf.png', '2mg87.png', 'b5pnn.png', 'x6pdb.png', 'cpe63.png', '8n2pg.png', 'ddpyb.png', '7p852.png', '6mygb.png', 'yyg5g.png', 'gy433.png', '4f8yp.png', '6ng6n.png', 'd8dce.png', '7cdge.png', '6p7gx.png', '5nm6d.png', 'ndyfe.png', 'g2fnw.png', 'n8wxm.jpg', '5xwcg.png', 'gy8xb.png', '5bb66.png', 'pmf5w.png', '6f2yc.png', '7b4bm.png', 'gewfy.png', '53mn8.png', '2enf4.png', 'mgw3n.png', '24pew.png', 'mggce.png', '25w53.png', '53wp3.png', 'dfnx4.png', '4dgf7.png', 'w4x2m.png', '56c34.png', 'nw5b2.png', 'b5dn4.png', 'd3c8y.png', 'p24gn.png', 'm5ym2.png', 'nnf8b.png', 'n5wbg.png', 'm74dm.png', 'be3bp.png', '4exnn.png', '3nw7w.png', 'bf52c.png', 'fnbfw.png', '5bnd7.png', 'wgnwp.png', 'xxney.png', '244e2.png', 'wye85.png', '2fxgd.png', 'bm3p8.png', 'e7x45.png', 'ggd7m.png', '368y5.png', '445cc.png', '8d4wm.png', 'ec6pm.png', 'x8xnp.png', 'ecd4w.png', '8c2wy.png', '5p3mm.png', '646x8.png', 'g78gn.png', 'nf8b8.png', '3p67n.png', '677g3.png', '8gmc4.png', '537nf.png', 'w52fn.png', 'b43nw.png', '8n65n.png', 'nfg23.png', '72m6f.png', 'mpxfb.png', 'dxwcw.png', 'pdyc8.png', 'gp7c5.png', '7bwm2.png', 'ncfgb.png', 'gd8fb.png', 'fpw76.png', '2w4y7.png', '56m6y.png', 'c2g4d.png', 'bgd4m.png', 'd22n7.png', '2b827.png', 'nbf8m.png', 'efg72.png', 'g7wxw.png', '4743p.png', '8fexn.png', 'y5w28.png', '8cm46.png', 'mmc5n.png', 'ffpxf.png', 'gwnm6.png', 'm2576.png', 'mmy5n.png', '4fp5g.png', 'w7e6m.png', '3wnd3.png', 'dpbyd.png', '25p2m.png', '4ynf3.png', 'gnbn4.png', 'f6bpw.jpg', 'ncw4g.png', 'n3m6x.png', 'nxxf8.png', '6bxwg.png', 'nf2n8.png', 'xp24p.png', 'wddcp.png', 'yw8y5.jpg', 'c7nn8.png', '7wn74.png', 'xnd3y.png', '5xd2e.png', 'gnc3n.png', 'efe62.png', 'x38fn.png', '2nf26.png', 'ng46m.png', 'mg5nn.png', 'pf4nb.png', 'nbfx5.png', 'nnfx3.png', 'xnn4d.png', 'y7x8p.png', 'c4527.png', 'gny6b.png', 'd236n.png', 'w75w8.png', 'm3588.png', 'fbp2c.png', 'd378n.png', '46mbm.png', '8d2nd.png', 'p8wwf.png', 'xf5g7.png', 'dw3nn.png', 'd6fcn.png', 'cy3nw.png', '5mgn4.png', '2cgyx.png', 'c4bgd.png', 'ewnx8.png', 'gy5bf.png', '6pwcn.png', 'n5n8b.png', 'pcmcc.jpg', 'ygce8.jpg', 'bbymy.png', 'gcx6f.png', 'gng6e.png', '4d22m.png', '85pew.jpg', '3ny45.png', 'y7d75.png', 'cpc8c.png', 'n5cm7.png', 'wg625.png', 'pg4bf.png', 'wc2bd.png', 'ebcbx.png', 'fxpw3.png', 'f364x.png', 'wnpec.png', 'xxw44.png', 'yd755.png', 'n8fp6.png', '2wx73.png', 'dnne7.png', 'xfgxb.png', 'e3ndn.png', 'e3cfe.jpg', 'mmg2m.png', 'nm46n.png', 'bdbb3.png', 'c86md.png', 'c353e.png', 'y5n6d.png', '6m5eg.png', 'c55c6.png', '74eyg.png', '2x7bm.png', '467d5.png', 'p5nce.png', 'mwdf6.png', 'bp6mw.png', 'd7c5x.png', 'mm3nn.png', '6b4w6.png', '832f3.png', 'gbxyy.png', '8cccc.png', '4w6mw.png', '2npg6.png', '387g2.png', 'bcwnn.png', 'wmpmp.png', 'w8f36.png', 'pbpgc.png', 'y53c2.png', 'efx34.png', 'px8n8.png', 'bgem5.png', 'ng6yp.png', 'mxyxw.png', '8w754.png', '8bbm4.png', 'nd5wg.png', '3cpwb.png', 'd8xcn.png', '3ym7f.png', '55w5c.png', 'y32yy.png', '7pcd7.png', '8g4yp.png', 'ddnpf.png', 'nf7bn.png', 'w2e87.png', '5p8fm.png', '62fgn.jpg', 'dnxdp.png', 'bdg84.png', 'pp87n.png', 'gnf85.png', 'pcm7f.png', '7bb7b.png', '2nbc5.jpg', 'pg2pm.png', 'ef4np.png', 'gm6nn.png', 'efgx5.png', 'bny23.png', '24f6w.png', '4b2pw.png', '8c23f.png', 'ndecc.png', '664nf.png', '7634y.png', '7mgmf.png', '6dmx7.png', 'nybcx.png', 'nxc83.png', 'mb4en.png', 'xcf88.png', '2en7g.png', '6ecbn.png', 'ypw3d.png', 'm23bp.png', '64m82.png', '5nggg.png', 'pgmn2.png', 'm5meg.png', 'mpmy5.png', 'xgcxy.png', 'de7f8.png', 'ewyg7.jpg', '23mdg.png', 'ppwyd.png', 'gfxcc.png', '5wddw.png', '43p5d.png', '2xc2n.png', 'deneb.png', 'my84e.png', 'wf684.png', '6ydyp.png', 'x4f7g.png', 'p4nm4.png', 'gpxng.png', 'mc35n.png', 'edg3p.png', 'b2nen.png', 'cwgyx.png', 'mgdwb.png', 'de45x.png', 'x775w.png', '53wb8.png', 'y4ec2.png', 'y7mnm.png', 'w46ep.png', '5pm6b.png', '5mf7c.png', 'gp22x.png', 'f2m8n.png', 'yd3m3.png', 'dyp7n.png', 'feyc8.png', 'xfg65.png', 'cdf77.png', 'e43ym.png', '44c22.png', '43xfe.png', 'gf2g4.png', 'cfp86.png', 'n265y.png', 'ffd6p.png', 'n464c.png', 'nwfde.png', 'pwebm.png', 'fp762.png', 'nbwnn.png', 'pyf65.png', 'n7ff2.png', 'dbny3.png', 'e2mg2.png', '5expp.png', 'xymfn.png', 'd2n8x.jpg', 'f8f8g.png', 'yge7c.jpg', 'mbf58.png', 'x4gg5.png', 'mnef5.png', '5f3gf.png', 'ny3dw.png', 'pwn5e.png', 'x76mn.png', 'cg5dd.png', '3n3cf.png', '88bgx.png', 'exycn.png', 'f4fn2.png', 'pm363.png', 'n7enn.png', 'x277e.png', 'y48c3.png', 'gc83b.png', 'c482b.png', 'cfc56.png', '226md.png', 'b4d7c.png', '3bd8f.png', '8npd5.png', '6wb76.png', 'pybee.png', 'fcne6.png', 'b2g8e.png', '5npdn.png', 'e46yw.png', '6b46g.png', 'ddxpp.jpg', 'dbpcd.png', '42dw4.png', 'wwmn6.png', '5n732.png', '77387.png', 'xce8d.png', '5n728.png', '33p4e.png', 'x2cnn.png', '8n62n.png', '3ebpw.png', 'bd3b7.png', 'x44n4.png', 'b84xc.png', '7pn5g.png', 'gdng3.png', 'mn5c4.png', '3xng6.png', 'n8ydd.png', 'dnmd8.png', 'cgcgb.png', '5bgp2.png', 'w6yne.png', 'xw465.png', 'cfc2y.png', 'c6745.png', 'dd764.png', '8xef7.png', 'd3ycn.png', 'xe8xm.png', 'en4n4.png', 'ng756.png', 'dbex3.png', '6fn84.png', 'ddcne.png', 'by5y3.png', '7dgc2.png', 'dn2ym.png', 'n2c85.jpg', 'bgb48.png', 'e8e5e.png', '62nb3.png', 'cdmn8.png', 'ng2gw.png', '3b4we.png', 'mcc2x.png', '2n73f.png', 'wfy5m.png', 'mc8w2.png', 'g3ex3.png', '28348.png', 'ybfx6.png', 'x3deb.png', 'nc4yg.png', 'bp2d4.png', '8np22.png', '6cwxe.png', 'pgm2e.png', '7e2y7.png', 'e2d66.png', 'geyn5.jpg', '37ep6.png', 'ndme7.png', '573bn.png', '3pe4g.png', 'mfb3x.png', 'een23.png', '34b84.png', '3x5fm.png', '7f8b3.png', '8gf7n.png', 'c3n8x.png', 'efb3f.png', 'g2577.png', '68x48.png', '6mege.png', '5ywwf.png', 'n373n.png', 'g842c.png', 'gm2c2.png', '82fx2.png', 'm22e3.png', '6e2dg.png', 'pcede.png', '7gnge.png', 'nfcb5.png']\n"
          ]
        }
      ]
    },
    {
      "cell_type": "code",
      "execution_count": null,
      "metadata": {
        "id": "d80tmBBm6K5P"
      },
      "outputs": [],
      "source": [
        "from keras import layers\n",
        "from keras.models import Model\n",
        "from keras.models import load_model\n",
        "from keras import callbacks\n",
        "import os\n",
        "import cv2\n",
        "import string\n",
        "import numpy as np\n",
        "\n",
        "#Init main values\n",
        "symbols = string.ascii_lowercase + \"0123456789\" # All symbols captcha can contain\n",
        "num_symbols = len(symbols)\n",
        "img_shape = (50, 200, 1)"
      ]
    },
    {
      "cell_type": "markdown",
      "source": [
        "#Preprocessing\n"
      ],
      "metadata": {
        "id": "FkqJ0eUqe3LT"
      }
    },
    {
      "cell_type": "code",
      "source": [
        "def preprocess_data():\n",
        "    n_samples = len(os.listdir('/content/Captcha'))\n",
        "    X = np.zeros((n_samples, 50, 200, 1)) #1070*50*200\n",
        "    y = np.zeros((5, n_samples, num_symbols)) #5*1070*36\n",
        "\n",
        "    for i, pic in enumerate(os.listdir('/content/Captcha')):\n",
        "        # Read image as grayscale\n",
        "        img = cv2.imread(os.path.join('/content/Captcha', pic), cv2.IMREAD_GRAYSCALE)\n",
        "        pic_target = pic[:-4]\n",
        "        if len(pic_target) < 6:\n",
        "            # Scale and reshape image\n",
        "            img = img / 255.0\n",
        "            img = np.reshape(img, (50, 200, 1))\n",
        "            # Define targets and code them using OneHotEncoding\n",
        "            targs = np.zeros((5, num_symbols))\n",
        "            for j, l in enumerate(pic_target):\n",
        "                ind = symbols.find(l)\n",
        "                targs[j, ind] = 1\n",
        "            X[i] = img\n",
        "            y[:, i] = targs\n",
        "\n",
        "    # Return final data\n",
        "    return X, y\n",
        "\n",
        "X, y = preprocess_data()\n",
        "X_train, y_train = X[:970], y[:, :970]\n",
        "X_test, y_test = X[970:], y[:, 970:]"
      ],
      "metadata": {
        "id": "VBF8hMbS8s7a"
      },
      "execution_count": null,
      "outputs": []
    },
    {
      "cell_type": "code",
      "source": [
        "X_test"
      ],
      "metadata": {
        "colab": {
          "base_uri": "https://localhost:8080/"
        },
        "id": "cwZ_xDTM-tU0",
        "outputId": "32a8aae2-1794-432b-8991-e8eb3b6bfd7a"
      },
      "execution_count": null,
      "outputs": [
        {
          "output_type": "execute_result",
          "data": {
            "text/plain": [
              "array([[[[0.75294118],\n",
              "         [0.75294118],\n",
              "         [0.75294118],\n",
              "         ...,\n",
              "         [0.98431373],\n",
              "         [0.98431373],\n",
              "         [0.98431373]],\n",
              "\n",
              "        [[0.75294118],\n",
              "         [0.75294118],\n",
              "         [0.75294118],\n",
              "         ...,\n",
              "         [0.98431373],\n",
              "         [0.98431373],\n",
              "         [0.98431373]],\n",
              "\n",
              "        [[0.75294118],\n",
              "         [0.75294118],\n",
              "         [0.75294118],\n",
              "         ...,\n",
              "         [0.98431373],\n",
              "         [0.98431373],\n",
              "         [0.98431373]],\n",
              "\n",
              "        ...,\n",
              "\n",
              "        [[0.76470588],\n",
              "         [0.76470588],\n",
              "         [0.76470588],\n",
              "         ...,\n",
              "         [0.99607843],\n",
              "         [0.99607843],\n",
              "         [0.99607843]],\n",
              "\n",
              "        [[0.76470588],\n",
              "         [0.76470588],\n",
              "         [0.76470588],\n",
              "         ...,\n",
              "         [0.99607843],\n",
              "         [0.99607843],\n",
              "         [0.99607843]],\n",
              "\n",
              "        [[0.76470588],\n",
              "         [0.76470588],\n",
              "         [0.76470588],\n",
              "         ...,\n",
              "         [0.99607843],\n",
              "         [0.99607843],\n",
              "         [0.99607843]]],\n",
              "\n",
              "\n",
              "       [[[0.75294118],\n",
              "         [0.75294118],\n",
              "         [0.75294118],\n",
              "         ...,\n",
              "         [0.98431373],\n",
              "         [0.98431373],\n",
              "         [0.98431373]],\n",
              "\n",
              "        [[0.75294118],\n",
              "         [0.75294118],\n",
              "         [0.75294118],\n",
              "         ...,\n",
              "         [0.98431373],\n",
              "         [0.98431373],\n",
              "         [0.98431373]],\n",
              "\n",
              "        [[0.75294118],\n",
              "         [0.75294118],\n",
              "         [0.75294118],\n",
              "         ...,\n",
              "         [0.98431373],\n",
              "         [0.98431373],\n",
              "         [0.98431373]],\n",
              "\n",
              "        ...,\n",
              "\n",
              "        [[0.76470588],\n",
              "         [0.76470588],\n",
              "         [0.76470588],\n",
              "         ...,\n",
              "         [0.99607843],\n",
              "         [0.99607843],\n",
              "         [0.99607843]],\n",
              "\n",
              "        [[0.76470588],\n",
              "         [0.76470588],\n",
              "         [0.76470588],\n",
              "         ...,\n",
              "         [0.99607843],\n",
              "         [0.99607843],\n",
              "         [0.99607843]],\n",
              "\n",
              "        [[0.76470588],\n",
              "         [0.76470588],\n",
              "         [0.76470588],\n",
              "         ...,\n",
              "         [0.99607843],\n",
              "         [0.99607843],\n",
              "         [0.99607843]]],\n",
              "\n",
              "\n",
              "       [[[0.75294118],\n",
              "         [0.75294118],\n",
              "         [0.75294118],\n",
              "         ...,\n",
              "         [0.98431373],\n",
              "         [0.98431373],\n",
              "         [0.98431373]],\n",
              "\n",
              "        [[0.75294118],\n",
              "         [0.75294118],\n",
              "         [0.75294118],\n",
              "         ...,\n",
              "         [0.98431373],\n",
              "         [0.98431373],\n",
              "         [0.98431373]],\n",
              "\n",
              "        [[0.75294118],\n",
              "         [0.75294118],\n",
              "         [0.75294118],\n",
              "         ...,\n",
              "         [0.98431373],\n",
              "         [0.98431373],\n",
              "         [0.98431373]],\n",
              "\n",
              "        ...,\n",
              "\n",
              "        [[0.76470588],\n",
              "         [0.76470588],\n",
              "         [0.76470588],\n",
              "         ...,\n",
              "         [0.99607843],\n",
              "         [0.99607843],\n",
              "         [0.99607843]],\n",
              "\n",
              "        [[0.76470588],\n",
              "         [0.76470588],\n",
              "         [0.76470588],\n",
              "         ...,\n",
              "         [0.99607843],\n",
              "         [0.99607843],\n",
              "         [0.99607843]],\n",
              "\n",
              "        [[0.76470588],\n",
              "         [0.76470588],\n",
              "         [0.76470588],\n",
              "         ...,\n",
              "         [0.99607843],\n",
              "         [0.99607843],\n",
              "         [0.99607843]]],\n",
              "\n",
              "\n",
              "       ...,\n",
              "\n",
              "\n",
              "       [[[0.75294118],\n",
              "         [0.75294118],\n",
              "         [0.75294118],\n",
              "         ...,\n",
              "         [0.98431373],\n",
              "         [0.98431373],\n",
              "         [0.98431373]],\n",
              "\n",
              "        [[0.75294118],\n",
              "         [0.75294118],\n",
              "         [0.75294118],\n",
              "         ...,\n",
              "         [0.98431373],\n",
              "         [0.98431373],\n",
              "         [0.98431373]],\n",
              "\n",
              "        [[0.75294118],\n",
              "         [0.75294118],\n",
              "         [0.75294118],\n",
              "         ...,\n",
              "         [0.98431373],\n",
              "         [0.98431373],\n",
              "         [0.98431373]],\n",
              "\n",
              "        ...,\n",
              "\n",
              "        [[0.76470588],\n",
              "         [0.76470588],\n",
              "         [0.76470588],\n",
              "         ...,\n",
              "         [0.99607843],\n",
              "         [0.99607843],\n",
              "         [0.99607843]],\n",
              "\n",
              "        [[0.76470588],\n",
              "         [0.76470588],\n",
              "         [0.76470588],\n",
              "         ...,\n",
              "         [0.99607843],\n",
              "         [0.99607843],\n",
              "         [0.99607843]],\n",
              "\n",
              "        [[0.76470588],\n",
              "         [0.76470588],\n",
              "         [0.76470588],\n",
              "         ...,\n",
              "         [0.99607843],\n",
              "         [0.99607843],\n",
              "         [0.99607843]]],\n",
              "\n",
              "\n",
              "       [[[0.75294118],\n",
              "         [0.75294118],\n",
              "         [0.75294118],\n",
              "         ...,\n",
              "         [0.98431373],\n",
              "         [0.98431373],\n",
              "         [0.98431373]],\n",
              "\n",
              "        [[0.75294118],\n",
              "         [0.75294118],\n",
              "         [0.75294118],\n",
              "         ...,\n",
              "         [0.98431373],\n",
              "         [0.98431373],\n",
              "         [0.98431373]],\n",
              "\n",
              "        [[0.75294118],\n",
              "         [0.75294118],\n",
              "         [0.75294118],\n",
              "         ...,\n",
              "         [0.98431373],\n",
              "         [0.98431373],\n",
              "         [0.98431373]],\n",
              "\n",
              "        ...,\n",
              "\n",
              "        [[0.76470588],\n",
              "         [0.76470588],\n",
              "         [0.76470588],\n",
              "         ...,\n",
              "         [0.99607843],\n",
              "         [0.99607843],\n",
              "         [0.99607843]],\n",
              "\n",
              "        [[0.76470588],\n",
              "         [0.76470588],\n",
              "         [0.76470588],\n",
              "         ...,\n",
              "         [0.99607843],\n",
              "         [0.99607843],\n",
              "         [0.99607843]],\n",
              "\n",
              "        [[0.76470588],\n",
              "         [0.76470588],\n",
              "         [0.76470588],\n",
              "         ...,\n",
              "         [0.99607843],\n",
              "         [0.99607843],\n",
              "         [0.99607843]]],\n",
              "\n",
              "\n",
              "       [[[0.75294118],\n",
              "         [0.75294118],\n",
              "         [0.75294118],\n",
              "         ...,\n",
              "         [0.98431373],\n",
              "         [0.98431373],\n",
              "         [0.98431373]],\n",
              "\n",
              "        [[0.75294118],\n",
              "         [0.75294118],\n",
              "         [0.75294118],\n",
              "         ...,\n",
              "         [0.98431373],\n",
              "         [0.98431373],\n",
              "         [0.98431373]],\n",
              "\n",
              "        [[0.75294118],\n",
              "         [0.75294118],\n",
              "         [0.75294118],\n",
              "         ...,\n",
              "         [0.98431373],\n",
              "         [0.98431373],\n",
              "         [0.98431373]],\n",
              "\n",
              "        ...,\n",
              "\n",
              "        [[0.76470588],\n",
              "         [0.76470588],\n",
              "         [0.76470588],\n",
              "         ...,\n",
              "         [0.99607843],\n",
              "         [0.99607843],\n",
              "         [0.99607843]],\n",
              "\n",
              "        [[0.76470588],\n",
              "         [0.76470588],\n",
              "         [0.76470588],\n",
              "         ...,\n",
              "         [0.99607843],\n",
              "         [0.99607843],\n",
              "         [0.99607843]],\n",
              "\n",
              "        [[0.76470588],\n",
              "         [0.76470588],\n",
              "         [0.76470588],\n",
              "         ...,\n",
              "         [0.99607843],\n",
              "         [0.99607843],\n",
              "         [0.99607843]]]])"
            ]
          },
          "metadata": {},
          "execution_count": 8
        }
      ]
    },
    {
      "cell_type": "code",
      "source": [
        "X_train.shape"
      ],
      "metadata": {
        "colab": {
          "base_uri": "https://localhost:8080/"
        },
        "id": "cSZFnQ7k82nu",
        "outputId": "41eb41ee-d6ad-48f3-bd0f-8bb208898b31"
      },
      "execution_count": null,
      "outputs": [
        {
          "output_type": "execute_result",
          "data": {
            "text/plain": [
              "(970, 50, 200, 1)"
            ]
          },
          "metadata": {},
          "execution_count": 9
        }
      ]
    },
    {
      "cell_type": "code",
      "source": [
        "y_train.shape"
      ],
      "metadata": {
        "colab": {
          "base_uri": "https://localhost:8080/"
        },
        "id": "t6EpOfGY85nt",
        "outputId": "c9eb23c6-9947-4634-abcf-bced0fc33a6d"
      },
      "execution_count": null,
      "outputs": [
        {
          "output_type": "execute_result",
          "data": {
            "text/plain": [
              "(5, 970, 36)"
            ]
          },
          "metadata": {},
          "execution_count": 10
        }
      ]
    },
    {
      "cell_type": "code",
      "source": [
        "y_test.shape"
      ],
      "metadata": {
        "id": "oKE8Vuvv895p",
        "colab": {
          "base_uri": "https://localhost:8080/"
        },
        "outputId": "6b2e4764-9d32-45ad-bb08-103c48df814f"
      },
      "execution_count": null,
      "outputs": [
        {
          "output_type": "execute_result",
          "data": {
            "text/plain": [
              "(5, 100, 36)"
            ]
          },
          "metadata": {},
          "execution_count": 11
        }
      ]
    },
    {
      "cell_type": "markdown",
      "source": [
        "#Creating model\n"
      ],
      "metadata": {
        "id": "RtmXn3V4fBDm"
      }
    },
    {
      "cell_type": "code",
      "source": [
        "def create_model():\n",
        "    img = layers.Input(shape=img_shape) # Get image as an input and process it through some Convs\n",
        "    conv1 = layers.Conv2D(16, (3, 3), padding='same', activation='relu')(img)\n",
        "    mp1 = layers.MaxPooling2D(padding='same')(conv1)  # 100x25\n",
        "    conv2 = layers.Conv2D(32, (3, 3), padding='same', activation='relu')(mp1)\n",
        "    mp2 = layers.MaxPooling2D(padding='same')(conv2)  # 50x13\n",
        "    conv3 = layers.Conv2D(32, (3, 3), padding='same', activation='relu')(mp2)\n",
        "    bn = layers.BatchNormalization()(conv3)\n",
        "    mp3 = layers.MaxPooling2D(padding='same')(bn)  # 25x7\n",
        "\n",
        "    # Get flattened vector and make 5 branches from it. Each branch will predict one letter\n",
        "    flat = layers.Flatten()(mp3)\n",
        "    outs = []\n",
        "    for _ in range(5):\n",
        "        dens1 = layers.Dense(64, activation='relu')(flat)\n",
        "        drop = layers.Dropout(0.5)(dens1)\n",
        "        res = layers.Dense(num_symbols, activation='sigmoid')(drop)\n",
        "\n",
        "        outs.append(res)\n",
        "\n",
        "    # Compile model and return it\n",
        "    model = Model(img, outs)\n",
        "    model.compile(loss='categorical_crossentropy', optimizer='adam',metrics=[\"accuracy\"])\n",
        "    return model"
      ],
      "metadata": {
        "id": "_wZJWCaB9VqR"
      },
      "execution_count": null,
      "outputs": []
    },
    {
      "cell_type": "code",
      "source": [
        "model=create_model();\n",
        "model.summary();"
      ],
      "metadata": {
        "colab": {
          "base_uri": "https://localhost:8080/"
        },
        "id": "VP13QHir9eoV",
        "outputId": "078284c5-12e1-4bf8-95c1-007a77086b18"
      },
      "execution_count": null,
      "outputs": [
        {
          "output_type": "stream",
          "name": "stdout",
          "text": [
            "Model: \"model\"\n",
            "__________________________________________________________________________________________________\n",
            " Layer (type)                   Output Shape         Param #     Connected to                     \n",
            "==================================================================================================\n",
            " input_1 (InputLayer)           [(None, 50, 200, 1)  0           []                               \n",
            "                                ]                                                                 \n",
            "                                                                                                  \n",
            " conv2d (Conv2D)                (None, 50, 200, 16)  160         ['input_1[0][0]']                \n",
            "                                                                                                  \n",
            " max_pooling2d (MaxPooling2D)   (None, 25, 100, 16)  0           ['conv2d[0][0]']                 \n",
            "                                                                                                  \n",
            " conv2d_1 (Conv2D)              (None, 25, 100, 32)  4640        ['max_pooling2d[0][0]']          \n",
            "                                                                                                  \n",
            " max_pooling2d_1 (MaxPooling2D)  (None, 13, 50, 32)  0           ['conv2d_1[0][0]']               \n",
            "                                                                                                  \n",
            " conv2d_2 (Conv2D)              (None, 13, 50, 32)   9248        ['max_pooling2d_1[0][0]']        \n",
            "                                                                                                  \n",
            " batch_normalization (BatchNorm  (None, 13, 50, 32)  128         ['conv2d_2[0][0]']               \n",
            " alization)                                                                                       \n",
            "                                                                                                  \n",
            " max_pooling2d_2 (MaxPooling2D)  (None, 7, 25, 32)   0           ['batch_normalization[0][0]']    \n",
            "                                                                                                  \n",
            " flatten (Flatten)              (None, 5600)         0           ['max_pooling2d_2[0][0]']        \n",
            "                                                                                                  \n",
            " dense (Dense)                  (None, 64)           358464      ['flatten[0][0]']                \n",
            "                                                                                                  \n",
            " dense_2 (Dense)                (None, 64)           358464      ['flatten[0][0]']                \n",
            "                                                                                                  \n",
            " dense_4 (Dense)                (None, 64)           358464      ['flatten[0][0]']                \n",
            "                                                                                                  \n",
            " dense_6 (Dense)                (None, 64)           358464      ['flatten[0][0]']                \n",
            "                                                                                                  \n",
            " dense_8 (Dense)                (None, 64)           358464      ['flatten[0][0]']                \n",
            "                                                                                                  \n",
            " dropout (Dropout)              (None, 64)           0           ['dense[0][0]']                  \n",
            "                                                                                                  \n",
            " dropout_1 (Dropout)            (None, 64)           0           ['dense_2[0][0]']                \n",
            "                                                                                                  \n",
            " dropout_2 (Dropout)            (None, 64)           0           ['dense_4[0][0]']                \n",
            "                                                                                                  \n",
            " dropout_3 (Dropout)            (None, 64)           0           ['dense_6[0][0]']                \n",
            "                                                                                                  \n",
            " dropout_4 (Dropout)            (None, 64)           0           ['dense_8[0][0]']                \n",
            "                                                                                                  \n",
            " dense_1 (Dense)                (None, 36)           2340        ['dropout[0][0]']                \n",
            "                                                                                                  \n",
            " dense_3 (Dense)                (None, 36)           2340        ['dropout_1[0][0]']              \n",
            "                                                                                                  \n",
            " dense_5 (Dense)                (None, 36)           2340        ['dropout_2[0][0]']              \n",
            "                                                                                                  \n",
            " dense_7 (Dense)                (None, 36)           2340        ['dropout_3[0][0]']              \n",
            "                                                                                                  \n",
            " dense_9 (Dense)                (None, 36)           2340        ['dropout_4[0][0]']              \n",
            "                                                                                                  \n",
            "==================================================================================================\n",
            "Total params: 1,818,196\n",
            "Trainable params: 1,818,132\n",
            "Non-trainable params: 64\n",
            "__________________________________________________________________________________________________\n"
          ]
        }
      ]
    },
    {
      "cell_type": "markdown",
      "source": [
        "#Fit model on train data set"
      ],
      "metadata": {
        "id": "QBUy5KyofMil"
      }
    },
    {
      "cell_type": "code",
      "source": [
        "#model = create_model()\n",
        "hist = model.fit(X_train, [y_train[0], y_train[1], y_train[2], y_train[3], y_train[4]], batch_size=32, epochs=30,verbose=1, validation_split=0.2)\n",
        "\n"
      ],
      "metadata": {
        "colab": {
          "base_uri": "https://localhost:8080/"
        },
        "id": "xgJqboUp9h4v",
        "outputId": "55879f82-70e6-4064-a1dd-a39e282753f4"
      },
      "execution_count": null,
      "outputs": [
        {
          "output_type": "stream",
          "name": "stdout",
          "text": [
            "Epoch 1/30\n",
            "25/25 [==============================] - 10s 44ms/step - loss: 17.6831 - dense_1_loss: 3.5635 - dense_3_loss: 3.5667 - dense_5_loss: 3.5549 - dense_7_loss: 3.5017 - dense_9_loss: 3.4963 - dense_1_accuracy: 0.0593 - dense_3_accuracy: 0.0503 - dense_5_accuracy: 0.0567 - dense_7_accuracy: 0.0503 - dense_9_accuracy: 0.0722 - val_loss: 17.5861 - val_dense_1_loss: 3.5358 - val_dense_3_loss: 3.5309 - val_dense_5_loss: 3.4975 - val_dense_7_loss: 3.5000 - val_dense_9_loss: 3.5219 - val_dense_1_accuracy: 0.0928 - val_dense_3_accuracy: 0.0464 - val_dense_5_accuracy: 0.0722 - val_dense_7_accuracy: 0.0670 - val_dense_9_accuracy: 0.1237\n",
            "Epoch 2/30\n",
            "25/25 [==============================] - 0s 14ms/step - loss: 16.3234 - dense_1_loss: 3.2796 - dense_3_loss: 3.2958 - dense_5_loss: 3.2801 - dense_7_loss: 3.2360 - dense_9_loss: 3.2318 - dense_1_accuracy: 0.0838 - dense_3_accuracy: 0.0941 - dense_5_accuracy: 0.0902 - dense_7_accuracy: 0.0902 - dense_9_accuracy: 0.0954 - val_loss: 17.6221 - val_dense_1_loss: 3.5267 - val_dense_3_loss: 3.5305 - val_dense_5_loss: 3.5206 - val_dense_7_loss: 3.5161 - val_dense_9_loss: 3.5282 - val_dense_1_accuracy: 0.1289 - val_dense_3_accuracy: 0.0928 - val_dense_5_accuracy: 0.1237 - val_dense_7_accuracy: 0.1031 - val_dense_9_accuracy: 0.1959\n",
            "Epoch 3/30\n",
            "25/25 [==============================] - 0s 15ms/step - loss: 15.1026 - dense_1_loss: 2.9628 - dense_3_loss: 3.0664 - dense_5_loss: 3.0094 - dense_7_loss: 3.0492 - dense_9_loss: 3.0148 - dense_1_accuracy: 0.1327 - dense_3_accuracy: 0.1263 - dense_5_accuracy: 0.1289 - dense_7_accuracy: 0.1237 - dense_9_accuracy: 0.1366 - val_loss: 17.3603 - val_dense_1_loss: 3.4520 - val_dense_3_loss: 3.4850 - val_dense_5_loss: 3.4867 - val_dense_7_loss: 3.4789 - val_dense_9_loss: 3.4576 - val_dense_1_accuracy: 0.2526 - val_dense_3_accuracy: 0.1443 - val_dense_5_accuracy: 0.1340 - val_dense_7_accuracy: 0.1701 - val_dense_9_accuracy: 0.1392\n",
            "Epoch 4/30\n",
            "25/25 [==============================] - 0s 15ms/step - loss: 13.4737 - dense_1_loss: 2.5746 - dense_3_loss: 2.7201 - dense_5_loss: 2.7001 - dense_7_loss: 2.7943 - dense_9_loss: 2.6846 - dense_1_accuracy: 0.2242 - dense_3_accuracy: 0.2139 - dense_5_accuracy: 0.2101 - dense_7_accuracy: 0.1559 - dense_9_accuracy: 0.2010 - val_loss: 17.2268 - val_dense_1_loss: 3.4011 - val_dense_3_loss: 3.4408 - val_dense_5_loss: 3.4809 - val_dense_7_loss: 3.4436 - val_dense_9_loss: 3.4605 - val_dense_1_accuracy: 0.2113 - val_dense_3_accuracy: 0.1495 - val_dense_5_accuracy: 0.1443 - val_dense_7_accuracy: 0.0876 - val_dense_9_accuracy: 0.1443\n",
            "Epoch 5/30\n",
            "25/25 [==============================] - 0s 14ms/step - loss: 11.7482 - dense_1_loss: 2.2032 - dense_3_loss: 2.2563 - dense_5_loss: 2.3692 - dense_7_loss: 2.5050 - dense_9_loss: 2.4144 - dense_1_accuracy: 0.3247 - dense_3_accuracy: 0.3260 - dense_5_accuracy: 0.2848 - dense_7_accuracy: 0.2320 - dense_9_accuracy: 0.2732 - val_loss: 16.7184 - val_dense_1_loss: 3.2384 - val_dense_3_loss: 3.3531 - val_dense_5_loss: 3.3782 - val_dense_7_loss: 3.3654 - val_dense_9_loss: 3.3833 - val_dense_1_accuracy: 0.2268 - val_dense_3_accuracy: 0.3660 - val_dense_5_accuracy: 0.2113 - val_dense_7_accuracy: 0.1031 - val_dense_9_accuracy: 0.2165\n",
            "Epoch 6/30\n",
            "25/25 [==============================] - 0s 14ms/step - loss: 10.0016 - dense_1_loss: 1.7147 - dense_3_loss: 1.8964 - dense_5_loss: 2.0654 - dense_7_loss: 2.2451 - dense_9_loss: 2.0800 - dense_1_accuracy: 0.4188 - dense_3_accuracy: 0.4253 - dense_5_accuracy: 0.3441 - dense_7_accuracy: 0.3080 - dense_9_accuracy: 0.3466 - val_loss: 16.1953 - val_dense_1_loss: 3.1287 - val_dense_3_loss: 3.2305 - val_dense_5_loss: 3.2907 - val_dense_7_loss: 3.2591 - val_dense_9_loss: 3.2863 - val_dense_1_accuracy: 0.3557 - val_dense_3_accuracy: 0.3918 - val_dense_5_accuracy: 0.3196 - val_dense_7_accuracy: 0.1340 - val_dense_9_accuracy: 0.2113\n",
            "Epoch 7/30\n",
            "25/25 [==============================] - 0s 15ms/step - loss: 8.5910 - dense_1_loss: 1.4515 - dense_3_loss: 1.5822 - dense_5_loss: 1.7617 - dense_7_loss: 1.9641 - dense_9_loss: 1.8316 - dense_1_accuracy: 0.5052 - dense_3_accuracy: 0.4871 - dense_5_accuracy: 0.4407 - dense_7_accuracy: 0.3724 - dense_9_accuracy: 0.4381 - val_loss: 15.2129 - val_dense_1_loss: 2.8719 - val_dense_3_loss: 3.0061 - val_dense_5_loss: 3.1035 - val_dense_7_loss: 3.1256 - val_dense_9_loss: 3.1059 - val_dense_1_accuracy: 0.7938 - val_dense_3_accuracy: 0.6495 - val_dense_5_accuracy: 0.5103 - val_dense_7_accuracy: 0.3660 - val_dense_9_accuracy: 0.4330\n",
            "Epoch 8/30\n",
            "25/25 [==============================] - 0s 15ms/step - loss: 7.2729 - dense_1_loss: 1.1973 - dense_3_loss: 1.3017 - dense_5_loss: 1.5311 - dense_7_loss: 1.7298 - dense_9_loss: 1.5130 - dense_1_accuracy: 0.5709 - dense_3_accuracy: 0.5696 - dense_5_accuracy: 0.4897 - dense_7_accuracy: 0.4407 - dense_9_accuracy: 0.5142 - val_loss: 14.3073 - val_dense_1_loss: 2.6586 - val_dense_3_loss: 2.7787 - val_dense_5_loss: 2.9489 - val_dense_7_loss: 2.9697 - val_dense_9_loss: 2.9514 - val_dense_1_accuracy: 0.6856 - val_dense_3_accuracy: 0.6959 - val_dense_5_accuracy: 0.5361 - val_dense_7_accuracy: 0.3196 - val_dense_9_accuracy: 0.4691\n",
            "Epoch 9/30\n",
            "25/25 [==============================] - 0s 15ms/step - loss: 6.1774 - dense_1_loss: 0.9545 - dense_3_loss: 1.0816 - dense_5_loss: 1.2951 - dense_7_loss: 1.5107 - dense_9_loss: 1.3356 - dense_1_accuracy: 0.6559 - dense_3_accuracy: 0.6456 - dense_5_accuracy: 0.5670 - dense_7_accuracy: 0.5052 - dense_9_accuracy: 0.5606 - val_loss: 13.9660 - val_dense_1_loss: 2.5134 - val_dense_3_loss: 2.7353 - val_dense_5_loss: 2.8766 - val_dense_7_loss: 2.9229 - val_dense_9_loss: 2.9177 - val_dense_1_accuracy: 0.7062 - val_dense_3_accuracy: 0.5206 - val_dense_5_accuracy: 0.4433 - val_dense_7_accuracy: 0.3196 - val_dense_9_accuracy: 0.3763\n",
            "Epoch 10/30\n",
            "25/25 [==============================] - 0s 15ms/step - loss: 5.0613 - dense_1_loss: 0.7371 - dense_3_loss: 0.8667 - dense_5_loss: 1.0424 - dense_7_loss: 1.2925 - dense_9_loss: 1.1226 - dense_1_accuracy: 0.7487 - dense_3_accuracy: 0.7126 - dense_5_accuracy: 0.6405 - dense_7_accuracy: 0.5644 - dense_9_accuracy: 0.6263 - val_loss: 12.1650 - val_dense_1_loss: 2.0800 - val_dense_3_loss: 2.2729 - val_dense_5_loss: 2.5112 - val_dense_7_loss: 2.6274 - val_dense_9_loss: 2.6736 - val_dense_1_accuracy: 0.8093 - val_dense_3_accuracy: 0.7371 - val_dense_5_accuracy: 0.6649 - val_dense_7_accuracy: 0.4948 - val_dense_9_accuracy: 0.5464\n",
            "Epoch 11/30\n",
            "25/25 [==============================] - 0s 14ms/step - loss: 4.4837 - dense_1_loss: 0.6542 - dense_3_loss: 0.7987 - dense_5_loss: 0.9657 - dense_7_loss: 1.1320 - dense_9_loss: 0.9333 - dense_1_accuracy: 0.7745 - dense_3_accuracy: 0.7294 - dense_5_accuracy: 0.6637 - dense_7_accuracy: 0.6108 - dense_9_accuracy: 0.6894 - val_loss: 11.1468 - val_dense_1_loss: 1.8926 - val_dense_3_loss: 2.0749 - val_dense_5_loss: 2.3003 - val_dense_7_loss: 2.5198 - val_dense_9_loss: 2.3591 - val_dense_1_accuracy: 0.8866 - val_dense_3_accuracy: 0.7990 - val_dense_5_accuracy: 0.6753 - val_dense_7_accuracy: 0.5722 - val_dense_9_accuracy: 0.5928\n",
            "Epoch 12/30\n",
            "25/25 [==============================] - 0s 15ms/step - loss: 3.7507 - dense_1_loss: 0.5403 - dense_3_loss: 0.6616 - dense_5_loss: 0.7645 - dense_7_loss: 0.9646 - dense_9_loss: 0.8196 - dense_1_accuracy: 0.8106 - dense_3_accuracy: 0.7835 - dense_5_accuracy: 0.7268 - dense_7_accuracy: 0.6688 - dense_9_accuracy: 0.7242 - val_loss: 8.5560 - val_dense_1_loss: 1.1687 - val_dense_3_loss: 1.4914 - val_dense_5_loss: 1.8490 - val_dense_7_loss: 2.0436 - val_dense_9_loss: 2.0033 - val_dense_1_accuracy: 0.9433 - val_dense_3_accuracy: 0.8402 - val_dense_5_accuracy: 0.7784 - val_dense_7_accuracy: 0.6649 - val_dense_9_accuracy: 0.6649\n",
            "Epoch 13/30\n",
            "25/25 [==============================] - 0s 14ms/step - loss: 3.5276 - dense_1_loss: 0.5647 - dense_3_loss: 0.6633 - dense_5_loss: 0.6568 - dense_7_loss: 0.8971 - dense_9_loss: 0.7455 - dense_1_accuracy: 0.7887 - dense_3_accuracy: 0.7668 - dense_5_accuracy: 0.7680 - dense_7_accuracy: 0.6933 - dense_9_accuracy: 0.7423 - val_loss: 7.5873 - val_dense_1_loss: 1.0743 - val_dense_3_loss: 1.2872 - val_dense_5_loss: 1.6825 - val_dense_7_loss: 1.8888 - val_dense_9_loss: 1.6545 - val_dense_1_accuracy: 0.9536 - val_dense_3_accuracy: 0.8866 - val_dense_5_accuracy: 0.7990 - val_dense_7_accuracy: 0.7165 - val_dense_9_accuracy: 0.7784\n",
            "Epoch 14/30\n",
            "25/25 [==============================] - 0s 14ms/step - loss: 2.9982 - dense_1_loss: 0.4363 - dense_3_loss: 0.5406 - dense_5_loss: 0.5436 - dense_7_loss: 0.8001 - dense_9_loss: 0.6776 - dense_1_accuracy: 0.8557 - dense_3_accuracy: 0.8157 - dense_5_accuracy: 0.8170 - dense_7_accuracy: 0.7113 - dense_9_accuracy: 0.7719 - val_loss: 5.2605 - val_dense_1_loss: 0.5190 - val_dense_3_loss: 0.8525 - val_dense_5_loss: 1.1360 - val_dense_7_loss: 1.4746 - val_dense_9_loss: 1.2784 - val_dense_1_accuracy: 0.9742 - val_dense_3_accuracy: 0.8918 - val_dense_5_accuracy: 0.7680 - val_dense_7_accuracy: 0.6753 - val_dense_9_accuracy: 0.7680\n",
            "Epoch 15/30\n",
            "25/25 [==============================] - 0s 14ms/step - loss: 2.8257 - dense_1_loss: 0.4291 - dense_3_loss: 0.5131 - dense_5_loss: 0.5792 - dense_7_loss: 0.7086 - dense_9_loss: 0.5956 - dense_1_accuracy: 0.8441 - dense_3_accuracy: 0.8312 - dense_5_accuracy: 0.7990 - dense_7_accuracy: 0.7448 - dense_9_accuracy: 0.8093 - val_loss: 5.7075 - val_dense_1_loss: 0.6070 - val_dense_3_loss: 0.9544 - val_dense_5_loss: 1.2217 - val_dense_7_loss: 1.5493 - val_dense_9_loss: 1.3751 - val_dense_1_accuracy: 0.9691 - val_dense_3_accuracy: 0.9021 - val_dense_5_accuracy: 0.7938 - val_dense_7_accuracy: 0.7216 - val_dense_9_accuracy: 0.7887\n",
            "Epoch 16/30\n",
            "25/25 [==============================] - 0s 14ms/step - loss: 2.4797 - dense_1_loss: 0.3440 - dense_3_loss: 0.4757 - dense_5_loss: 0.4961 - dense_7_loss: 0.6698 - dense_9_loss: 0.4940 - dense_1_accuracy: 0.8763 - dense_3_accuracy: 0.8376 - dense_5_accuracy: 0.8338 - dense_7_accuracy: 0.7784 - dense_9_accuracy: 0.8454 - val_loss: 4.4467 - val_dense_1_loss: 0.4335 - val_dense_3_loss: 0.6585 - val_dense_5_loss: 0.9679 - val_dense_7_loss: 1.2697 - val_dense_9_loss: 1.1170 - val_dense_1_accuracy: 0.9691 - val_dense_3_accuracy: 0.9330 - val_dense_5_accuracy: 0.8247 - val_dense_7_accuracy: 0.7371 - val_dense_9_accuracy: 0.7887\n",
            "Epoch 17/30\n",
            "25/25 [==============================] - 0s 14ms/step - loss: 2.2438 - dense_1_loss: 0.3578 - dense_3_loss: 0.4582 - dense_5_loss: 0.4074 - dense_7_loss: 0.5365 - dense_9_loss: 0.4839 - dense_1_accuracy: 0.8750 - dense_3_accuracy: 0.8222 - dense_5_accuracy: 0.8595 - dense_7_accuracy: 0.8080 - dense_9_accuracy: 0.8325 - val_loss: 3.6072 - val_dense_1_loss: 0.2906 - val_dense_3_loss: 0.5733 - val_dense_5_loss: 0.7922 - val_dense_7_loss: 1.0874 - val_dense_9_loss: 0.8636 - val_dense_1_accuracy: 0.9845 - val_dense_3_accuracy: 0.9227 - val_dense_5_accuracy: 0.8144 - val_dense_7_accuracy: 0.7629 - val_dense_9_accuracy: 0.8041\n",
            "Epoch 18/30\n",
            "25/25 [==============================] - 0s 15ms/step - loss: 2.1207 - dense_1_loss: 0.3090 - dense_3_loss: 0.4020 - dense_5_loss: 0.4030 - dense_7_loss: 0.5429 - dense_9_loss: 0.4638 - dense_1_accuracy: 0.8789 - dense_3_accuracy: 0.8582 - dense_5_accuracy: 0.8441 - dense_7_accuracy: 0.8028 - dense_9_accuracy: 0.8286 - val_loss: 3.3528 - val_dense_1_loss: 0.2394 - val_dense_3_loss: 0.4437 - val_dense_5_loss: 0.7407 - val_dense_7_loss: 1.0705 - val_dense_9_loss: 0.8585 - val_dense_1_accuracy: 0.9691 - val_dense_3_accuracy: 0.9227 - val_dense_5_accuracy: 0.7990 - val_dense_7_accuracy: 0.7938 - val_dense_9_accuracy: 0.8299\n",
            "Epoch 19/30\n",
            "25/25 [==============================] - 0s 16ms/step - loss: 1.9307 - dense_1_loss: 0.3219 - dense_3_loss: 0.3595 - dense_5_loss: 0.3371 - dense_7_loss: 0.5005 - dense_9_loss: 0.4117 - dense_1_accuracy: 0.8802 - dense_3_accuracy: 0.8647 - dense_5_accuracy: 0.8737 - dense_7_accuracy: 0.8209 - dense_9_accuracy: 0.8544 - val_loss: 2.8682 - val_dense_1_loss: 0.1564 - val_dense_3_loss: 0.3694 - val_dense_5_loss: 0.7067 - val_dense_7_loss: 0.9568 - val_dense_9_loss: 0.6790 - val_dense_1_accuracy: 0.9639 - val_dense_3_accuracy: 0.9330 - val_dense_5_accuracy: 0.8041 - val_dense_7_accuracy: 0.7474 - val_dense_9_accuracy: 0.8041\n",
            "Epoch 20/30\n",
            "25/25 [==============================] - 0s 14ms/step - loss: 1.8057 - dense_1_loss: 0.2900 - dense_3_loss: 0.3658 - dense_5_loss: 0.3271 - dense_7_loss: 0.4474 - dense_9_loss: 0.3756 - dense_1_accuracy: 0.8827 - dense_3_accuracy: 0.8582 - dense_5_accuracy: 0.8789 - dense_7_accuracy: 0.8492 - dense_9_accuracy: 0.8647 - val_loss: 2.5629 - val_dense_1_loss: 0.1123 - val_dense_3_loss: 0.3252 - val_dense_5_loss: 0.6005 - val_dense_7_loss: 0.9091 - val_dense_9_loss: 0.6159 - val_dense_1_accuracy: 0.9794 - val_dense_3_accuracy: 0.9227 - val_dense_5_accuracy: 0.8351 - val_dense_7_accuracy: 0.7577 - val_dense_9_accuracy: 0.7990\n",
            "Epoch 21/30\n",
            "25/25 [==============================] - 0s 14ms/step - loss: 1.6157 - dense_1_loss: 0.2556 - dense_3_loss: 0.3244 - dense_5_loss: 0.2899 - dense_7_loss: 0.3923 - dense_9_loss: 0.3535 - dense_1_accuracy: 0.8969 - dense_3_accuracy: 0.8866 - dense_5_accuracy: 0.8995 - dense_7_accuracy: 0.8608 - dense_9_accuracy: 0.8930 - val_loss: 2.7293 - val_dense_1_loss: 0.1270 - val_dense_3_loss: 0.3319 - val_dense_5_loss: 0.6285 - val_dense_7_loss: 0.9658 - val_dense_9_loss: 0.6761 - val_dense_1_accuracy: 0.9691 - val_dense_3_accuracy: 0.9124 - val_dense_5_accuracy: 0.8247 - val_dense_7_accuracy: 0.7165 - val_dense_9_accuracy: 0.7887\n",
            "Epoch 22/30\n",
            "25/25 [==============================] - 0s 15ms/step - loss: 1.5618 - dense_1_loss: 0.2401 - dense_3_loss: 0.3134 - dense_5_loss: 0.2715 - dense_7_loss: 0.4078 - dense_9_loss: 0.3290 - dense_1_accuracy: 0.9072 - dense_3_accuracy: 0.8866 - dense_5_accuracy: 0.9098 - dense_7_accuracy: 0.8595 - dense_9_accuracy: 0.8814 - val_loss: 2.5109 - val_dense_1_loss: 0.0821 - val_dense_3_loss: 0.3157 - val_dense_5_loss: 0.6507 - val_dense_7_loss: 0.8746 - val_dense_9_loss: 0.5877 - val_dense_1_accuracy: 0.9845 - val_dense_3_accuracy: 0.9124 - val_dense_5_accuracy: 0.8247 - val_dense_7_accuracy: 0.7526 - val_dense_9_accuracy: 0.8041\n",
            "Epoch 23/30\n",
            "25/25 [==============================] - 0s 14ms/step - loss: 1.4483 - dense_1_loss: 0.2291 - dense_3_loss: 0.2866 - dense_5_loss: 0.2530 - dense_7_loss: 0.4095 - dense_9_loss: 0.2700 - dense_1_accuracy: 0.9046 - dense_3_accuracy: 0.9034 - dense_5_accuracy: 0.9072 - dense_7_accuracy: 0.8518 - dense_9_accuracy: 0.9059 - val_loss: 2.3201 - val_dense_1_loss: 0.0549 - val_dense_3_loss: 0.2343 - val_dense_5_loss: 0.6738 - val_dense_7_loss: 0.8155 - val_dense_9_loss: 0.5416 - val_dense_1_accuracy: 0.9897 - val_dense_3_accuracy: 0.9330 - val_dense_5_accuracy: 0.8196 - val_dense_7_accuracy: 0.7784 - val_dense_9_accuracy: 0.8299\n",
            "Epoch 24/30\n",
            "25/25 [==============================] - 0s 15ms/step - loss: 1.4606 - dense_1_loss: 0.2145 - dense_3_loss: 0.2408 - dense_5_loss: 0.2836 - dense_7_loss: 0.4116 - dense_9_loss: 0.3101 - dense_1_accuracy: 0.9111 - dense_3_accuracy: 0.9124 - dense_5_accuracy: 0.8969 - dense_7_accuracy: 0.8557 - dense_9_accuracy: 0.9021 - val_loss: 2.4525 - val_dense_1_loss: 0.0466 - val_dense_3_loss: 0.3129 - val_dense_5_loss: 0.5982 - val_dense_7_loss: 0.8927 - val_dense_9_loss: 0.6021 - val_dense_1_accuracy: 0.9845 - val_dense_3_accuracy: 0.9124 - val_dense_5_accuracy: 0.8144 - val_dense_7_accuracy: 0.7268 - val_dense_9_accuracy: 0.7938\n",
            "Epoch 25/30\n",
            "25/25 [==============================] - 0s 14ms/step - loss: 1.4733 - dense_1_loss: 0.2234 - dense_3_loss: 0.2955 - dense_5_loss: 0.2564 - dense_7_loss: 0.3712 - dense_9_loss: 0.3269 - dense_1_accuracy: 0.9227 - dense_3_accuracy: 0.8892 - dense_5_accuracy: 0.9059 - dense_7_accuracy: 0.8724 - dense_9_accuracy: 0.8892 - val_loss: 2.1737 - val_dense_1_loss: 0.0789 - val_dense_3_loss: 0.2433 - val_dense_5_loss: 0.5211 - val_dense_7_loss: 0.8474 - val_dense_9_loss: 0.4830 - val_dense_1_accuracy: 0.9639 - val_dense_3_accuracy: 0.9278 - val_dense_5_accuracy: 0.8454 - val_dense_7_accuracy: 0.7732 - val_dense_9_accuracy: 0.8505\n",
            "Epoch 26/30\n",
            "25/25 [==============================] - 0s 13ms/step - loss: 1.3135 - dense_1_loss: 0.1592 - dense_3_loss: 0.2803 - dense_5_loss: 0.2187 - dense_7_loss: 0.2978 - dense_9_loss: 0.3575 - dense_1_accuracy: 0.9394 - dense_3_accuracy: 0.8930 - dense_5_accuracy: 0.9265 - dense_7_accuracy: 0.8930 - dense_9_accuracy: 0.8582 - val_loss: 2.1413 - val_dense_1_loss: 0.0536 - val_dense_3_loss: 0.2374 - val_dense_5_loss: 0.5664 - val_dense_7_loss: 0.8154 - val_dense_9_loss: 0.4685 - val_dense_1_accuracy: 0.9742 - val_dense_3_accuracy: 0.9330 - val_dense_5_accuracy: 0.8608 - val_dense_7_accuracy: 0.7938 - val_dense_9_accuracy: 0.8557\n",
            "Epoch 27/30\n",
            "25/25 [==============================] - 0s 15ms/step - loss: 1.2380 - dense_1_loss: 0.1632 - dense_3_loss: 0.2224 - dense_5_loss: 0.2313 - dense_7_loss: 0.3214 - dense_9_loss: 0.2996 - dense_1_accuracy: 0.9317 - dense_3_accuracy: 0.9137 - dense_5_accuracy: 0.9162 - dense_7_accuracy: 0.8814 - dense_9_accuracy: 0.8995 - val_loss: 2.2025 - val_dense_1_loss: 0.0407 - val_dense_3_loss: 0.2598 - val_dense_5_loss: 0.6034 - val_dense_7_loss: 0.7903 - val_dense_9_loss: 0.5082 - val_dense_1_accuracy: 0.9794 - val_dense_3_accuracy: 0.9330 - val_dense_5_accuracy: 0.8247 - val_dense_7_accuracy: 0.7784 - val_dense_9_accuracy: 0.8454\n",
            "Epoch 28/30\n",
            "25/25 [==============================] - 0s 14ms/step - loss: 1.1484 - dense_1_loss: 0.1836 - dense_3_loss: 0.2168 - dense_5_loss: 0.2224 - dense_7_loss: 0.2711 - dense_9_loss: 0.2546 - dense_1_accuracy: 0.9304 - dense_3_accuracy: 0.9188 - dense_5_accuracy: 0.9188 - dense_7_accuracy: 0.9046 - dense_9_accuracy: 0.9008 - val_loss: 2.2522 - val_dense_1_loss: 0.0288 - val_dense_3_loss: 0.2391 - val_dense_5_loss: 0.6784 - val_dense_7_loss: 0.7778 - val_dense_9_loss: 0.5281 - val_dense_1_accuracy: 0.9948 - val_dense_3_accuracy: 0.9381 - val_dense_5_accuracy: 0.8093 - val_dense_7_accuracy: 0.7577 - val_dense_9_accuracy: 0.8351\n",
            "Epoch 29/30\n",
            "25/25 [==============================] - 0s 14ms/step - loss: 1.1181 - dense_1_loss: 0.1367 - dense_3_loss: 0.2307 - dense_5_loss: 0.2092 - dense_7_loss: 0.2823 - dense_9_loss: 0.2591 - dense_1_accuracy: 0.9446 - dense_3_accuracy: 0.9162 - dense_5_accuracy: 0.9240 - dense_7_accuracy: 0.8969 - dense_9_accuracy: 0.8995 - val_loss: 2.2878 - val_dense_1_loss: 0.0381 - val_dense_3_loss: 0.2509 - val_dense_5_loss: 0.5893 - val_dense_7_loss: 0.8902 - val_dense_9_loss: 0.5193 - val_dense_1_accuracy: 0.9948 - val_dense_3_accuracy: 0.9278 - val_dense_5_accuracy: 0.8454 - val_dense_7_accuracy: 0.7835 - val_dense_9_accuracy: 0.8608\n",
            "Epoch 30/30\n",
            "25/25 [==============================] - 0s 15ms/step - loss: 1.0781 - dense_1_loss: 0.1404 - dense_3_loss: 0.2093 - dense_5_loss: 0.2023 - dense_7_loss: 0.2657 - dense_9_loss: 0.2603 - dense_1_accuracy: 0.9523 - dense_3_accuracy: 0.9227 - dense_5_accuracy: 0.9291 - dense_7_accuracy: 0.9046 - dense_9_accuracy: 0.9008 - val_loss: 2.1695 - val_dense_1_loss: 0.0534 - val_dense_3_loss: 0.2036 - val_dense_5_loss: 0.6016 - val_dense_7_loss: 0.8652 - val_dense_9_loss: 0.4456 - val_dense_1_accuracy: 0.9845 - val_dense_3_accuracy: 0.9330 - val_dense_5_accuracy: 0.8557 - val_dense_7_accuracy: 0.7629 - val_dense_9_accuracy: 0.8505\n"
          ]
        }
      ]
    },
    {
      "cell_type": "markdown",
      "source": [
        "#Test Model"
      ],
      "metadata": {
        "id": "ccbt_gbGfb-t"
      }
    },
    {
      "cell_type": "code",
      "source": [
        "# Define function to predict captcha\n",
        "def predict(filepath):\n",
        "    img = cv2.imread(filepath, cv2.IMREAD_GRAYSCALE)\n",
        "    if img is not None:\n",
        "        img = img / 255.0\n",
        "    else:\n",
        "        print(\"Not detected\");\n",
        "    res = np.array(model.predict(img[np.newaxis, :, :, np.newaxis]))\n",
        "    ans = np.reshape(res, (5, 36))\n",
        "    l_ind = []\n",
        "    probs = []\n",
        "    for a in ans:\n",
        "        l_ind.append(np.argmax(a))\n",
        "        #probs.append(np.max(a))\n",
        "\n",
        "    capt = ''\n",
        "    for l in l_ind:\n",
        "        capt += symbols[l]\n",
        "    return capt#, sum(probs) / 5"
      ],
      "metadata": {
        "id": "-P0Pzzwh9zLv"
      },
      "execution_count": null,
      "outputs": []
    },
    {
      "cell_type": "code",
      "source": [
        "score= model.evaluate(X_test,[y_test[0], y_test[1], y_test[2], y_test[3], y_test[4]],verbose=1)\n",
        "print('Test Loss and accuracy:', score)"
      ],
      "metadata": {
        "colab": {
          "base_uri": "https://localhost:8080/"
        },
        "id": "CVbJGsVz-BSa",
        "outputId": "1e014593-07d4-4af8-da26-9651273d3a39"
      },
      "execution_count": null,
      "outputs": [
        {
          "output_type": "stream",
          "name": "stdout",
          "text": [
            "4/4 [==============================] - 0s 33ms/step - loss: 1.8727 - dense_1_loss: 0.1685 - dense_3_loss: 0.2245 - dense_5_loss: 0.4394 - dense_7_loss: 0.4978 - dense_9_loss: 0.5425 - dense_1_accuracy: 0.9500 - dense_3_accuracy: 0.9400 - dense_5_accuracy: 0.9000 - dense_7_accuracy: 0.8400 - dense_9_accuracy: 0.7900\n",
            "Test Loss and accuracy: [1.8726959228515625, 0.1684735119342804, 0.2245349884033203, 0.4393858313560486, 0.49782150983810425, 0.5424802303314209, 0.949999988079071, 0.9399999976158142, 0.8999999761581421, 0.8399999737739563, 0.7900000214576721]\n"
          ]
        }
      ]
    },
    {
      "cell_type": "code",
      "source": [
        "# Check model on some samples\n",
        "model.evaluate(X_test, [y_test[0], y_test[1], y_test[2], y_test[3], y_test[4]])\n",
        "print(\"Predict for 8n5p3:\")\n",
        "print(predict('/content/Captcha/8n5p3.png'))\n",
        "\n",
        "print(\"Predict for f2m8n:\")\n",
        "print(predict('/content/Captcha/f2m8n.png'))\n",
        "\n",
        "print(\"Predict for dce8y:\")\n",
        "print(predict('/content/Captcha/dce8y.png'))\n",
        "\n",
        "print(\"Predict for 3eny7:\")\n",
        "print(predict('/content/Captcha/3eny7.png'))\n"
      ],
      "metadata": {
        "colab": {
          "base_uri": "https://localhost:8080/"
        },
        "id": "-n0PjeHE-Dj9",
        "outputId": "fda25ea8-8908-4da7-c89a-2a07968442c2"
      },
      "execution_count": null,
      "outputs": [
        {
          "output_type": "stream",
          "name": "stdout",
          "text": [
            "4/4 [==============================] - 0s 8ms/step - loss: 1.8727 - dense_1_loss: 0.1685 - dense_3_loss: 0.2245 - dense_5_loss: 0.4394 - dense_7_loss: 0.4978 - dense_9_loss: 0.5425 - dense_1_accuracy: 0.9500 - dense_3_accuracy: 0.9400 - dense_5_accuracy: 0.9000 - dense_7_accuracy: 0.8400 - dense_9_accuracy: 0.7900\n",
            "Predict for 8n5p3:\n",
            "1/1 [==============================] - 0s 216ms/step\n",
            "8n5p3\n",
            "Predict for f2m8n:\n",
            "1/1 [==============================] - 0s 17ms/step\n",
            "f2n8n\n",
            "Predict for dce8y:\n",
            "1/1 [==============================] - 0s 18ms/step\n",
            "dce8y\n",
            "Predict for 3eny7:\n",
            "1/1 [==============================] - 0s 17ms/step\n",
            "3eny7\n"
          ]
        }
      ]
    },
    {
      "cell_type": "code",
      "source": [],
      "metadata": {
        "id": "vzfOwy5iFfht"
      },
      "execution_count": null,
      "outputs": []
    }
  ]
}